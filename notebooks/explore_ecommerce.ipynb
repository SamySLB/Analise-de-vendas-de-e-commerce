{
 "cells": [
  {
   "cell_type": "code",
   "execution_count": 3,
   "id": "6bacec91",
   "metadata": {},
   "outputs": [
    {
     "name": "stdout",
     "output_type": "stream",
     "text": [
      "✅ Dataset carregado com sucesso!\n",
      "resumo do dataFrame\n",
      "<class 'pandas.core.frame.DataFrame'>\n",
      "RangeIndex: 240 entries, 0 to 239\n",
      "Data columns (total 9 columns):\n",
      " #   Column            Non-Null Count  Dtype         \n",
      "---  ------            --------------  -----         \n",
      " 0   transaction_id    240 non-null    category      \n",
      " 1   date              240 non-null    datetime64[ns]\n",
      " 2   product_category  240 non-null    category      \n",
      " 3   product_name      240 non-null    string        \n",
      " 4   units_sold        240 non-null    int32         \n",
      " 5   unit_price        240 non-null    float32       \n",
      " 6   total_revenue     240 non-null    float32       \n",
      " 7   region            240 non-null    category      \n",
      " 8   payment_method    240 non-null    category      \n",
      "dtypes: category(4), datetime64[ns](1), float32(2), int32(1), string(1)\n",
      "memory usage: 18.3 KB\n",
      "None\n",
      "Estatisticas descritivas de colunas númericas\n",
      "                      date  units_sold   unit_price  total_revenue\n",
      "count                  240  240.000000   240.000000     240.000000\n",
      "mean   2024-04-29 12:00:00    2.158333   236.395584     335.699371\n",
      "min    2024-01-01 00:00:00    1.000000     6.500000       6.500000\n",
      "25%    2024-02-29 18:00:00    1.000000    29.500000      62.964999\n",
      "50%    2024-04-29 12:00:00    2.000000    89.989998     179.970001\n",
      "75%    2024-06-28 06:00:00    3.000000   249.990005     399.224998\n",
      "max    2024-08-27 00:00:00   10.000000  3899.989990    3899.989990\n",
      "std                    NaN    1.322454   429.446686     485.804474\n",
      "valores nulos por coluna\n",
      "transaction_id      0\n",
      "date                0\n",
      "product_category    0\n",
      "product_name        0\n",
      "units_sold          0\n",
      "unit_price          0\n",
      "total_revenue       0\n",
      "region              0\n",
      "payment_method      0\n",
      "dtype: int64\n"
     ]
    }
   ],
   "source": [
    "import pandas as pd\n",
    "\n",
    "df = pd.read_parquet(\n",
    "    'C:/Users/samar/OneDrive/Documentos/ads-unipe/Analise de vendas de e-commerce/data/ecommerce_clean.parquet'\n",
    ")\n",
    "\n",
    "print(\"✅ Dataset carregado com sucesso!\")\n",
    "\n",
    "print(\"resumo do dataFrame\");\n",
    "print(df.info());\n",
    "print(\"Estatisticas descritivas de colunas númericas\");\n",
    "print(df.describe());\n",
    "print(\"valores nulos por coluna\");\n",
    "print(df.isnull().sum());\n",
    "\n",
    "\n",
    "\n"
   ]
  }
 ],
 "metadata": {
  "kernelspec": {
   "display_name": "Python 3",
   "language": "python",
   "name": "python3"
  },
  "language_info": {
   "codemirror_mode": {
    "name": "ipython",
    "version": 3
   },
   "file_extension": ".py",
   "mimetype": "text/x-python",
   "name": "python",
   "nbconvert_exporter": "python",
   "pygments_lexer": "ipython3",
   "version": "3.10.0rc2"
  }
 },
 "nbformat": 4,
 "nbformat_minor": 5
}
