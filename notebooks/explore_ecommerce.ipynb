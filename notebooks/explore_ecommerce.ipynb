{
 "cells": [
  {
   "cell_type": "code",
   "execution_count": 10,
   "id": "6bacec91",
   "metadata": {},
   "outputs": [
    {
     "data": {
      "text/plain": [
       "'✅ Dataset carregado com sucesso!'"
      ]
     },
     "metadata": {},
     "output_type": "display_data"
    },
    {
     "data": {
      "text/plain": [
       "'Resumo do DataFrame:'"
      ]
     },
     "metadata": {},
     "output_type": "display_data"
    },
    {
     "name": "stdout",
     "output_type": "stream",
     "text": [
      "<class 'pandas.core.frame.DataFrame'>\n",
      "RangeIndex: 240 entries, 0 to 239\n",
      "Data columns (total 9 columns):\n",
      " #   Column            Non-Null Count  Dtype         \n",
      "---  ------            --------------  -----         \n",
      " 0   transaction_id    240 non-null    category      \n",
      " 1   date              240 non-null    datetime64[ns]\n",
      " 2   product_category  240 non-null    category      \n",
      " 3   product_name      240 non-null    string        \n",
      " 4   units_sold        240 non-null    int32         \n",
      " 5   unit_price        240 non-null    float32       \n",
      " 6   total_revenue     240 non-null    float32       \n",
      " 7   region            240 non-null    category      \n",
      " 8   payment_method    240 non-null    category      \n",
      "dtypes: category(4), datetime64[ns](1), float32(2), int32(1), string(1)\n",
      "memory usage: 18.3 KB\n"
     ]
    },
    {
     "data": {
      "text/plain": [
       "None"
      ]
     },
     "metadata": {},
     "output_type": "display_data"
    },
    {
     "data": {
      "text/plain": [
       "'Estatísticas descritivas de colunas numéricas:'"
      ]
     },
     "metadata": {},
     "output_type": "display_data"
    },
    {
     "data": {
      "text/html": [
       "<div>\n",
       "<style scoped>\n",
       "    .dataframe tbody tr th:only-of-type {\n",
       "        vertical-align: middle;\n",
       "    }\n",
       "\n",
       "    .dataframe tbody tr th {\n",
       "        vertical-align: top;\n",
       "    }\n",
       "\n",
       "    .dataframe thead th {\n",
       "        text-align: right;\n",
       "    }\n",
       "</style>\n",
       "<table border=\"1\" class=\"dataframe\">\n",
       "  <thead>\n",
       "    <tr style=\"text-align: right;\">\n",
       "      <th></th>\n",
       "      <th>date</th>\n",
       "      <th>units_sold</th>\n",
       "      <th>unit_price</th>\n",
       "      <th>total_revenue</th>\n",
       "    </tr>\n",
       "  </thead>\n",
       "  <tbody>\n",
       "    <tr>\n",
       "      <th>count</th>\n",
       "      <td>240</td>\n",
       "      <td>240.000000</td>\n",
       "      <td>240.000000</td>\n",
       "      <td>240.000000</td>\n",
       "    </tr>\n",
       "    <tr>\n",
       "      <th>mean</th>\n",
       "      <td>2024-04-29 12:00:00</td>\n",
       "      <td>2.158333</td>\n",
       "      <td>236.395584</td>\n",
       "      <td>335.699371</td>\n",
       "    </tr>\n",
       "    <tr>\n",
       "      <th>min</th>\n",
       "      <td>2024-01-01 00:00:00</td>\n",
       "      <td>1.000000</td>\n",
       "      <td>6.500000</td>\n",
       "      <td>6.500000</td>\n",
       "    </tr>\n",
       "    <tr>\n",
       "      <th>25%</th>\n",
       "      <td>2024-02-29 18:00:00</td>\n",
       "      <td>1.000000</td>\n",
       "      <td>29.500000</td>\n",
       "      <td>62.964999</td>\n",
       "    </tr>\n",
       "    <tr>\n",
       "      <th>50%</th>\n",
       "      <td>2024-04-29 12:00:00</td>\n",
       "      <td>2.000000</td>\n",
       "      <td>89.989998</td>\n",
       "      <td>179.970001</td>\n",
       "    </tr>\n",
       "    <tr>\n",
       "      <th>75%</th>\n",
       "      <td>2024-06-28 06:00:00</td>\n",
       "      <td>3.000000</td>\n",
       "      <td>249.990005</td>\n",
       "      <td>399.224998</td>\n",
       "    </tr>\n",
       "    <tr>\n",
       "      <th>max</th>\n",
       "      <td>2024-08-27 00:00:00</td>\n",
       "      <td>10.000000</td>\n",
       "      <td>3899.989990</td>\n",
       "      <td>3899.989990</td>\n",
       "    </tr>\n",
       "    <tr>\n",
       "      <th>std</th>\n",
       "      <td>NaN</td>\n",
       "      <td>1.322454</td>\n",
       "      <td>429.446686</td>\n",
       "      <td>485.804474</td>\n",
       "    </tr>\n",
       "  </tbody>\n",
       "</table>\n",
       "</div>"
      ],
      "text/plain": [
       "                      date  units_sold   unit_price  total_revenue\n",
       "count                  240  240.000000   240.000000     240.000000\n",
       "mean   2024-04-29 12:00:00    2.158333   236.395584     335.699371\n",
       "min    2024-01-01 00:00:00    1.000000     6.500000       6.500000\n",
       "25%    2024-02-29 18:00:00    1.000000    29.500000      62.964999\n",
       "50%    2024-04-29 12:00:00    2.000000    89.989998     179.970001\n",
       "75%    2024-06-28 06:00:00    3.000000   249.990005     399.224998\n",
       "max    2024-08-27 00:00:00   10.000000  3899.989990    3899.989990\n",
       "std                    NaN    1.322454   429.446686     485.804474"
      ]
     },
     "metadata": {},
     "output_type": "display_data"
    },
    {
     "data": {
      "text/plain": [
       "'Valores nulos por coluna:'"
      ]
     },
     "metadata": {},
     "output_type": "display_data"
    },
    {
     "data": {
      "text/plain": [
       "transaction_id      0\n",
       "date                0\n",
       "product_category    0\n",
       "product_name        0\n",
       "units_sold          0\n",
       "unit_price          0\n",
       "total_revenue       0\n",
       "region              0\n",
       "payment_method      0\n",
       "dtype: int64"
      ]
     },
     "metadata": {},
     "output_type": "display_data"
    },
    {
     "data": {
      "text/plain": [
       "'Receita total: $80,567.85'"
      ]
     },
     "metadata": {},
     "output_type": "display_data"
    },
    {
     "data": {
      "text/plain": [
       "'Número de transações: 240'"
      ]
     },
     "metadata": {},
     "output_type": "display_data"
    },
    {
     "data": {
      "text/plain": [
       "'Total de unidades vendidas: 518'"
      ]
     },
     "metadata": {},
     "output_type": "display_data"
    },
    {
     "data": {
      "text/plain": [
       "'Top 10 produtos mais vendidos:'"
      ]
     },
     "metadata": {},
     "output_type": "display_data"
    },
    {
     "data": {
      "text/plain": [
       "product_name\n",
       "Hanes ComfortSoft T-Shirt                  10\n",
       "The Catcher in the Rye by J.D. Salinger     7\n",
       "Nike Air Force 1                            6\n",
       "Gap Essential Crewneck T-Shirt              6\n",
       "Yeti Rambler Tumbler                        6\n",
       "Spalding NBA Street Basketball              6\n",
       "Adidas 3-Stripes Shorts                     5\n",
       "Calvin Klein Boxer Briefs                   5\n",
       "Titleist Pro V1 Golf Balls                  5\n",
       "Under Armour HeatGear T-Shirt               5\n",
       "Name: units_sold, dtype: int32"
      ]
     },
     "metadata": {},
     "output_type": "display_data"
    }
   ],
   "source": [
    "import pandas as pd\n",
    "from IPython.display import display\n",
    "\n",
    "\n",
    "df = pd.read_parquet(\n",
    "    'C:/Users/samar/OneDrive/Documentos/ads-unipe/Analise de vendas de e-commerce/data/ecommerce_clean.parquet'\n",
    ")\n",
    "display(\"✅ Dataset carregado com sucesso!\")\n",
    "\n",
    "\n",
    "display(\"Resumo do DataFrame:\")\n",
    "display(df.info())  \n",
    "\n",
    "\n",
    "display(\"Estatísticas descritivas de colunas numéricas:\")\n",
    "display(df.describe())\n",
    "\n",
    "\n",
    "display(\"Valores nulos por coluna:\")\n",
    "display(df.isnull().sum())\n",
    "\n",
    "\n",
    "total_revenue = df['total_revenue'].sum()\n",
    "total_transactions = df['transaction_id'].nunique()\n",
    "total_units = df['units_sold'].sum()\n",
    "\n",
    "display(f\"Receita total: ${total_revenue:,.2f}\")\n",
    "display(f\"Número de transações: {total_transactions}\")\n",
    "display(f\"Total de unidades vendidas: {total_units}\")\n",
    "\n",
    "\n",
    "top_products = df.groupby('product_name')['units_sold'].sum().sort_values(ascending=False).head(10)\n",
    "display(\"Top 10 produtos mais vendidos:\")\n",
    "display(top_products)\n"
   ]
  },
  {
   "cell_type": "code",
   "execution_count": null,
   "id": "54207319",
   "metadata": {},
   "outputs": [],
   "source": []
  }
 ],
 "metadata": {
  "kernelspec": {
   "display_name": "Python 3",
   "language": "python",
   "name": "python3"
  },
  "language_info": {
   "codemirror_mode": {
    "name": "ipython",
    "version": 3
   },
   "file_extension": ".py",
   "mimetype": "text/x-python",
   "name": "python",
   "nbconvert_exporter": "python",
   "pygments_lexer": "ipython3",
   "version": "3.10.0rc2"
  }
 },
 "nbformat": 4,
 "nbformat_minor": 5
}
