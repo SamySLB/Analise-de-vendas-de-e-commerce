{
 "cells": [
  {
   "cell_type": "code",
   "execution_count": 10,
   "id": "b20a9fd2",
   "metadata": {},
   "outputs": [
    {
     "name": "stdout",
     "output_type": "stream",
     "text": [
      "dados carregados\n"
     ]
    }
   ],
   "source": [
    "import pandas as pd\n",
    "\n",
    "\n",
    "df = pd.read_csv(\n",
    "    'C:/Users/samar/OneDrive/Documentos/ads-unipe/Analise de vendas de e-commerce/data/Online Sales Data.csv',\n",
    "    dtype={\n",
    "        'Transaction ID': 'category',\n",
    "        'Product Category': 'category',\n",
    "        'Product Name': 'string',\n",
    "        'Units Sold': 'int32',\n",
    "        'Unit Price': 'float32',\n",
    "        'Total Revenue': 'float32',\n",
    "        'Region': 'category',\n",
    "        'Payment Method': 'category'\n",
    "    },\n",
    "    parse_dates=['Date'],  \n",
    "    low_memory=False\n",
    ")\n",
    "#padroniza nomes de colunas\n",
    "df.columns = (\n",
    "    df.columns\n",
    "      .str.strip()\n",
    "      .str.lower()\n",
    "      .str.replace(' ', '_')\n",
    ")\n",
    "\n",
    "#limpeza dos dados\n",
    "df.drop_duplicates(inplace=True)\n",
    "df.dropna(subset=['transaction_id', 'product_category'], inplace=True)\n",
    "\n",
    "#salvando em parquet para otimizar o uso\n",
    "df.to_parquet(\n",
    "    'C:/Users/samar/OneDrive/Documentos/ads-unipe/Analise de vendas de e-commerce/data/ecommerce_clean.parquet',\n",
    "    index=False\n",
    ")\n",
    "\n",
    "print(\"dados carregados\")\n",
    "\n",
    "\n",
    "\n"
   ]
  }
 ],
 "metadata": {
  "kernelspec": {
   "display_name": "Python 3",
   "language": "python",
   "name": "python3"
  },
  "language_info": {
   "codemirror_mode": {
    "name": "ipython",
    "version": 3
   },
   "file_extension": ".py",
   "mimetype": "text/x-python",
   "name": "python",
   "nbconvert_exporter": "python",
   "pygments_lexer": "ipython3",
   "version": "3.10.0"
  }
 },
 "nbformat": 4,
 "nbformat_minor": 5
}
